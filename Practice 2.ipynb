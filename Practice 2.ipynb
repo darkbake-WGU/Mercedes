{
 "cells": [
  {
   "cell_type": "code",
   "execution_count": 1,
   "metadata": {},
   "outputs": [],
   "source": [
    "import xml.etree.cElementTree as ET\n",
    "from collections import defaultdict\n",
    "import re\n",
    "import pprint\n",
    "\n",
    "osm_file = open(\"wallawalla.osm\",\"r\", encoding=\"utf8\")\n",
    "\n",
    "street_type_re = re.compile(r'\\b\\S+\\.?$',re.IGNORECASE)\n",
    "street_types = {}\n",
    "\n",
    "def audit_street_type(street_name):\n",
    "    m = street_type_re.search(street_name)\n",
    "    if m:\n",
    "        street_type = m.group()\n",
    "        if street_type not in street_types.keys():\n",
    "            street_types[street_type] = 1\n",
    "        else:\n",
    "            street_types[street_type] += 1\n",
    "        \n",
    "def print_sorted_dict(d):\n",
    "    keys = d.keys()\n",
    "    keys = sorted(keys, key=lambda s: s.lower())\n",
    "    for k in keys:\n",
    "        v = d[k]\n",
    "        print(\"%s: %d\" %(k,v))\n",
    "        \n",
    "def is_street_name(elem):\n",
    "    return (elem.tag == \"tag\") and (elem.attrib['k'] == \"addr:street\")\n",
    "\n",
    "def store_street_names(street_name):\n",
    "    m = street_type_re.search(street_name)\n",
    "    if m:\n",
    "        street_type = m.group()\n",
    "        if street_type not in street_types.keys():\n",
    "            street_types[street_type] = street_name\n",
    "        else:\n",
    "            street_types[street_type] += street_name\n",
    "\n",
    "def audit(filename):\n",
    "    for event, elem in ET.iterparse(filename):\n",
    "        if is_street_name(elem):\n",
    "            audit_street_type(elem.attrib['v'])\n",
    "            \n",
    "def audit2(filename):\n",
    "    for event, elem in ET.iterparse(filename):\n",
    "        if is_street_name(elem):\n",
    "            store_street_names(elem.attrib['v'])\n",
    "\n",
    "\n",
    "\n",
    "\n"
   ]
  },
  {
   "cell_type": "code",
   "execution_count": 2,
   "metadata": {
    "scrolled": true
   },
   "outputs": [],
   "source": [
    "audit(osm_file)"
   ]
  },
  {
   "cell_type": "code",
   "execution_count": 3,
   "metadata": {},
   "outputs": [
    {
     "name": "stdout",
     "output_type": "stream",
     "text": [
      "{'Ave': 4,\n",
      " 'Avenue': 1719,\n",
      " 'Boulevard': 1,\n",
      " 'Circle': 32,\n",
      " 'Court': 141,\n",
      " 'Drive': 1715,\n",
      " 'Isaacs': 1,\n",
      " 'Lane': 391,\n",
      " 'Loop': 101,\n",
      " 'Pl': 7,\n",
      " 'Place': 353,\n",
      " 'Road': 186,\n",
      " 'Run': 21,\n",
      " 'St': 1,\n",
      " 'Steet': 22,\n",
      " 'Street': 5936,\n",
      " 'Terrace': 69,\n",
      " 'Way': 102,\n",
      " 'ave': 1}\n"
     ]
    }
   ],
   "source": [
    "pprint.pprint(street_types)"
   ]
  },
  {
   "cell_type": "markdown",
   "metadata": {},
   "source": []
  }
 ],
 "metadata": {
  "kernelspec": {
   "display_name": "Python 3",
   "language": "python",
   "name": "python3"
  },
  "language_info": {
   "codemirror_mode": {
    "name": "ipython",
    "version": 3
   },
   "file_extension": ".py",
   "mimetype": "text/x-python",
   "name": "python",
   "nbconvert_exporter": "python",
   "pygments_lexer": "ipython3",
   "version": "3.8.5"
  }
 },
 "nbformat": 4,
 "nbformat_minor": 4
}
